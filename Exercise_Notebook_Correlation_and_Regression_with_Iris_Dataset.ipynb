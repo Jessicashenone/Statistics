{
  "cells": [
    {
      "cell_type": "markdown",
      "metadata": {
        "id": "view-in-github",
        "colab_type": "text"
      },
      "source": [
        "<a href=\"https://colab.research.google.com/github/amkayhani/Statistics/blob/main/Exercise_Notebook_Correlation_and_Regression_with_Iris_Dataset.ipynb\" target=\"_parent\"><img src=\"https://colab.research.google.com/assets/colab-badge.svg\" alt=\"Open In Colab\"/></a>"
      ]
    },
    {
      "cell_type": "code",
      "execution_count": null,
      "id": "7f1f7ba2",
      "metadata": {
        "id": "7f1f7ba2"
      },
      "outputs": [],
      "source": [
        "from sklearn.datasets import load_iris\n",
        "import pandas as pd\n",
        "\n",
        "iris_dataset = load_iris()\n",
        "iris_df = pd.DataFrame(iris_dataset.data, columns=iris_dataset.feature_names)\n",
        "iris_df['species'] = iris_dataset.target\n",
        "iris_df.head()"
      ]
    },
    {
      "cell_type": "markdown",
      "id": "9261857b",
      "metadata": {
        "id": "9261857b"
      },
      "source": [
        "Visualizing the Data: Load the Iris Dataset. Choose two variables (e.g., Petal Length and Petal Width) and plot a scatter plot. Label the axes and add a title to the plot. What initial observations can you make about the relationship between these two variables?"
      ]
    },
    {
      "cell_type": "code",
      "execution_count": null,
      "id": "5f1dca18",
      "metadata": {
        "id": "5f1dca18"
      },
      "outputs": [],
      "source": []
    },
    {
      "cell_type": "markdown",
      "id": "061a1760",
      "metadata": {
        "id": "061a1760"
      },
      "source": [
        "Calculating Correlation: Calculate and print the Pearson correlation coefficient between the two variables you chose. What does this value indicate about their relationship?"
      ]
    },
    {
      "cell_type": "code",
      "execution_count": null,
      "id": "a3c123be",
      "metadata": {
        "id": "a3c123be"
      },
      "outputs": [],
      "source": []
    },
    {
      "cell_type": "markdown",
      "id": "f305c64a",
      "metadata": {
        "id": "f305c64a"
      },
      "source": [
        "Building a Linear Regression Model: Use the `statsmodels` or `sklearn` library to build a linear regression model using the two variables you chose. Print the summary of the model (if using `statsmodels`) or the coefficients and intercept (if using `sklearn`). What can you infer from the model's output?"
      ]
    },
    {
      "cell_type": "code",
      "execution_count": null,
      "id": "48b33e6a",
      "metadata": {
        "id": "48b33e6a"
      },
      "outputs": [],
      "source": [
        "from sklearn.linear_model import LinearRegression\n",
        "model = LinearRegression().fit(boston_df[['RM']], boston_df['MEDV'])\n",
        "assert np.isclose(computed_slope, model.coef_[0]), \"The slope of the regression model is incorrect\"\n",
        "assert np.isclose(computed_intercept, model.intercept_), \"The intercept of the regression model is incorrect\""
      ]
    },
    {
      "cell_type": "code",
      "execution_count": null,
      "id": "aa36351d",
      "metadata": {
        "id": "aa36351d"
      },
      "outputs": [],
      "source": []
    },
    {
      "cell_type": "code",
      "execution_count": null,
      "id": "8a163378",
      "metadata": {
        "id": "8a163378"
      },
      "outputs": [],
      "source": [
        "from sklearn.metrics import mean_squared_error, r2_score\n",
        "predicted_values = model.predict(boston_df[['RM']])\n",
        "assert np.isclose(computed_mse, mean_squared_error(boston_df['MEDV'], predicted_values)), \"The Mean Squared Error is incorrect\"\n",
        "assert np.isclose(computed_r2, r2_score(boston_df['MEDV'], predicted_values)), \"The R-squared value is incorrect\""
      ]
    },
    {
      "cell_type": "markdown",
      "id": "cc948b5a",
      "metadata": {
        "id": "cc948b5a"
      },
      "source": [
        "Evaluating Model Performance: Calculate the Mean Squared Error (MSE) and R-squared value for your regression model. How well does the model fit the data?"
      ]
    },
    {
      "cell_type": "code",
      "execution_count": null,
      "id": "7ab641fb",
      "metadata": {
        "id": "7ab641fb"
      },
      "outputs": [],
      "source": []
    },
    {
      "cell_type": "markdown",
      "id": "69410f8b",
      "metadata": {
        "id": "69410f8b"
      },
      "source": [
        "Predicting New Values: Based on your linear regression model, predict the petal width for a new set of petal lengths. Use at least 3 different values for prediction. Discuss the potential accuracy of these predictions."
      ]
    },
    {
      "cell_type": "code",
      "execution_count": null,
      "id": "335cb03b",
      "metadata": {
        "id": "335cb03b"
      },
      "outputs": [],
      "source": []
    }
  ],
  "metadata": {
    "colab": {
      "provenance": [],
      "include_colab_link": true
    },
    "language_info": {
      "name": "python"
    },
    "kernelspec": {
      "name": "python3",
      "display_name": "Python 3"
    }
  },
  "nbformat": 4,
  "nbformat_minor": 5
}