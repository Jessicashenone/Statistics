{
  "cells": [
    {
      "cell_type": "markdown",
      "metadata": {
        "id": "view-in-github",
        "colab_type": "text"
      },
      "source": [
        "<a href=\"https://colab.research.google.com/github/amkayhani/Statistics/blob/main/descriptive_statistics_Exercises.ipynb\" target=\"_parent\"><img src=\"https://colab.research.google.com/assets/colab-badge.svg\" alt=\"Open In Colab\"/></a>"
      ]
    },
    {
      "cell_type": "markdown",
      "id": "81dd7098",
      "metadata": {
        "id": "81dd7098"
      },
      "source": [
        "# Descriptive Statistics Exercises"
      ]
    },
    {
      "cell_type": "markdown",
      "source": [
        "1. Import a dataset of your choice and calculate its mean, median, and mode with mean, median and mode methods."
      ],
      "metadata": {
        "id": "7zCf60h85K_W"
      },
      "id": "7zCf60h85K_W"
    },
    {
      "cell_type": "code",
      "source": [],
      "metadata": {
        "id": "plPeHvf34cuJ"
      },
      "id": "plPeHvf34cuJ",
      "execution_count": null,
      "outputs": []
    },
    {
      "cell_type": "markdown",
      "source": [
        "2. Produce a statistical summary."
      ],
      "metadata": {
        "id": "GX2ZFX-A4nf2"
      },
      "id": "GX2ZFX-A4nf2"
    },
    {
      "cell_type": "code",
      "source": [],
      "metadata": {
        "id": "tousQe744qtp"
      },
      "id": "tousQe744qtp",
      "execution_count": null,
      "outputs": []
    },
    {
      "cell_type": "markdown",
      "source": [
        "3. Compute the range, variance, and standard deviation of the dataset.\n"
      ],
      "metadata": {
        "id": "otrDCmd34v0y"
      },
      "id": "otrDCmd34v0y"
    },
    {
      "cell_type": "code",
      "source": [],
      "metadata": {
        "id": "OTmTyW_F40Ag"
      },
      "id": "OTmTyW_F40Ag",
      "execution_count": null,
      "outputs": []
    },
    {
      "cell_type": "markdown",
      "source": [
        "4. Plot a histogram and boxplot of the data. What observations can you make?\n"
      ],
      "metadata": {
        "id": "vEmoUL1g41HX"
      },
      "id": "vEmoUL1g41HX"
    },
    {
      "cell_type": "code",
      "source": [],
      "metadata": {
        "id": "gg85T5rF46pr"
      },
      "id": "gg85T5rF46pr",
      "execution_count": null,
      "outputs": []
    },
    {
      "cell_type": "markdown",
      "source": [
        "5. Calculate the skewness and kurtosis of your dataset. What do they indicate about its distribution?\n"
      ],
      "metadata": {
        "id": "juQpXvKK47Pt"
      },
      "id": "juQpXvKK47Pt"
    },
    {
      "cell_type": "code",
      "source": [],
      "metadata": {
        "id": "n51dWMkK4_Vl"
      },
      "id": "n51dWMkK4_Vl",
      "execution_count": null,
      "outputs": []
    },
    {
      "cell_type": "markdown",
      "source": [
        "6. Compute the IQR and identify any potential outliers in your dataset.(with visualisation)\n",
        "\n"
      ],
      "metadata": {
        "id": "HAPzXSpa4_3d"
      },
      "id": "HAPzXSpa4_3d"
    },
    {
      "cell_type": "code",
      "source": [],
      "metadata": {
        "id": "ToKJMoof5D4L"
      },
      "id": "ToKJMoof5D4L",
      "execution_count": null,
      "outputs": []
    },
    {
      "cell_type": "markdown",
      "source": [
        "7. Compute range, variance and standard deviation.\n"
      ],
      "metadata": {
        "id": "4YxJ1JLw5Edf"
      },
      "id": "4YxJ1JLw5Edf"
    },
    {
      "cell_type": "code",
      "source": [],
      "metadata": {
        "id": "Tawt5IMk5Hzs"
      },
      "id": "Tawt5IMk5Hzs",
      "execution_count": null,
      "outputs": []
    }
  ],
  "metadata": {
    "colab": {
      "provenance": [],
      "include_colab_link": true
    },
    "language_info": {
      "name": "python"
    },
    "kernelspec": {
      "name": "python3",
      "display_name": "Python 3"
    }
  },
  "nbformat": 4,
  "nbformat_minor": 5
}