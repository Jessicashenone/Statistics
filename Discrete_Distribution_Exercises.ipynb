{
  "nbformat": 4,
  "nbformat_minor": 0,
  "metadata": {
    "colab": {
      "provenance": [],
      "include_colab_link": true
    },
    "kernelspec": {
      "name": "python3",
      "display_name": "Python 3"
    },
    "language_info": {
      "name": "python"
    }
  },
  "cells": [
    {
      "cell_type": "markdown",
      "metadata": {
        "id": "view-in-github",
        "colab_type": "text"
      },
      "source": [
        "<a href=\"https://colab.research.google.com/github/amkayhani/Statistics/blob/main/Discrete_Distribution_Exercises.ipynb\" target=\"_parent\"><img src=\"https://colab.research.google.com/assets/colab-badge.svg\" alt=\"Open In Colab\"/></a>"
      ]
    },
    {
      "cell_type": "markdown",
      "source": [
        "# **Discrete Distributions Exercises:**"
      ],
      "metadata": {
        "id": "ERKzGacduMZp"
      }
    },
    {
      "cell_type": "markdown",
      "source": [
        "# **Exercise 1:**\n",
        "\n",
        "A local bakery that specializes in artisanal bread sells 50 loaves every day. Recently, there has been an increase in customer complaints regarding the quality of the bread. After thorough analysis, the bakery found that there is a 10% chance that a loaf may be underbaked. Should customers be concerned about the bread quality?\n"
      ],
      "metadata": {
        "id": "ULfdTrtc537N"
      }
    },
    {
      "cell_type": "code",
      "source": [
        "#Use this place to write and run your code"
      ],
      "metadata": {
        "id": "AEP4_ipM6y2o"
      },
      "execution_count": null,
      "outputs": []
    },
    {
      "cell_type": "markdown",
      "source": [
        "# **Exercise 2:**\n",
        "\n",
        "In an e-commerce fulfillment center, a team is responsible for packaging electronic gadgets. The team has observed that, on average, there are 2.5 packaging errors (such as incorrect labels or missing components) per batch of 20 products. The e-commerce platform has offered a deal: if the company can ensure fewer than 4 errors per batch, the platform will cover the cost of expedited shipping for all orders in that batch. However, if the error count reaches 5 or more, the company will have to provide free replacements for the affected products. Should the e-commerce company accept this offer?\n",
        "\n",
        "a) What is the probability of exactly three errors?\n",
        "\n",
        "b) What is the probability of less than three errors?"
      ],
      "metadata": {
        "id": "XBhM-hFo6Mgm"
      }
    },
    {
      "cell_type": "code",
      "source": [
        "#Use this place to write and run your code"
      ],
      "metadata": {
        "id": "2_ePmZ7N60aB"
      },
      "execution_count": null,
      "outputs": []
    }
  ]
}